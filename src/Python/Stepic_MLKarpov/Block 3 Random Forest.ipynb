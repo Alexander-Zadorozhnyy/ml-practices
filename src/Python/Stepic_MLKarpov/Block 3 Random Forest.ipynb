{
 "cells": [
  {
   "cell_type": "code",
   "execution_count": 5,
   "id": "63ca5255",
   "metadata": {
    "ExecuteTime": {
     "end_time": "2023-09-24T11:49:31.975644200Z",
     "start_time": "2023-09-24T11:49:31.813583Z"
    }
   },
   "outputs": [],
   "source": [
    "import pandas as pd\n",
    "import numpy as np\n",
    "from sklearn.model_selection import GridSearchCV\n",
    "from sklearn.ensemble import RandomForestClassifier"
   ]
  },
  {
   "cell_type": "markdown",
   "id": "f74a2ff0",
   "metadata": {},
   "source": [
    "## Task 1"
   ]
  },
  {
   "cell_type": "code",
   "execution_count": 6,
   "id": "682c91ca",
   "metadata": {
    "ExecuteTime": {
     "end_time": "2023-09-24T11:49:35.499153600Z",
     "start_time": "2023-09-24T11:49:31.826739100Z"
    }
   },
   "outputs": [
    {
     "data": {
      "text/plain": "   cap-shape  cap-surface  cap-color  bruises  odor  gill-attachment  \\\n0          2            0          3        1     5                1   \n1          2            0          4        0     5                1   \n2          2            0          3        0     2                1   \n3          0            0          3        0     5                1   \n4          2            3          3        1     5                1   \n\n   gill-spacing  gill-size  gill-color  stalk-shape  ...  \\\n0             0          0           9            1  ...   \n1             0          1          10            0  ...   \n2             0          0           7            0  ...   \n3             1          0           2            0  ...   \n4             0          0          10            1  ...   \n\n   stalk-color-above-ring  stalk-color-below-ring  veil-type  veil-color  \\\n0                       3                       7          0           2   \n1                       7                       4          0           2   \n2                       0                       4          0           2   \n3                       7                       7          0           2   \n4                       3                       6          0           2   \n\n   ring-number  ring-type  spore-print-color  population  habitat  class  \n0            1          4                  3           5        0      0  \n1            1          0                  7           4        0      1  \n2            1          2                  1           5        1      1  \n3            2          4                  7           3        1      0  \n4            1          4                  2           5        0      0  \n\n[5 rows x 23 columns]",
      "text/html": "<div>\n<style scoped>\n    .dataframe tbody tr th:only-of-type {\n        vertical-align: middle;\n    }\n\n    .dataframe tbody tr th {\n        vertical-align: top;\n    }\n\n    .dataframe thead th {\n        text-align: right;\n    }\n</style>\n<table border=\"1\" class=\"dataframe\">\n  <thead>\n    <tr style=\"text-align: right;\">\n      <th></th>\n      <th>cap-shape</th>\n      <th>cap-surface</th>\n      <th>cap-color</th>\n      <th>bruises</th>\n      <th>odor</th>\n      <th>gill-attachment</th>\n      <th>gill-spacing</th>\n      <th>gill-size</th>\n      <th>gill-color</th>\n      <th>stalk-shape</th>\n      <th>...</th>\n      <th>stalk-color-above-ring</th>\n      <th>stalk-color-below-ring</th>\n      <th>veil-type</th>\n      <th>veil-color</th>\n      <th>ring-number</th>\n      <th>ring-type</th>\n      <th>spore-print-color</th>\n      <th>population</th>\n      <th>habitat</th>\n      <th>class</th>\n    </tr>\n  </thead>\n  <tbody>\n    <tr>\n      <th>0</th>\n      <td>2</td>\n      <td>0</td>\n      <td>3</td>\n      <td>1</td>\n      <td>5</td>\n      <td>1</td>\n      <td>0</td>\n      <td>0</td>\n      <td>9</td>\n      <td>1</td>\n      <td>...</td>\n      <td>3</td>\n      <td>7</td>\n      <td>0</td>\n      <td>2</td>\n      <td>1</td>\n      <td>4</td>\n      <td>3</td>\n      <td>5</td>\n      <td>0</td>\n      <td>0</td>\n    </tr>\n    <tr>\n      <th>1</th>\n      <td>2</td>\n      <td>0</td>\n      <td>4</td>\n      <td>0</td>\n      <td>5</td>\n      <td>1</td>\n      <td>0</td>\n      <td>1</td>\n      <td>10</td>\n      <td>0</td>\n      <td>...</td>\n      <td>7</td>\n      <td>4</td>\n      <td>0</td>\n      <td>2</td>\n      <td>1</td>\n      <td>0</td>\n      <td>7</td>\n      <td>4</td>\n      <td>0</td>\n      <td>1</td>\n    </tr>\n    <tr>\n      <th>2</th>\n      <td>2</td>\n      <td>0</td>\n      <td>3</td>\n      <td>0</td>\n      <td>2</td>\n      <td>1</td>\n      <td>0</td>\n      <td>0</td>\n      <td>7</td>\n      <td>0</td>\n      <td>...</td>\n      <td>0</td>\n      <td>4</td>\n      <td>0</td>\n      <td>2</td>\n      <td>1</td>\n      <td>2</td>\n      <td>1</td>\n      <td>5</td>\n      <td>1</td>\n      <td>1</td>\n    </tr>\n    <tr>\n      <th>3</th>\n      <td>0</td>\n      <td>0</td>\n      <td>3</td>\n      <td>0</td>\n      <td>5</td>\n      <td>1</td>\n      <td>1</td>\n      <td>0</td>\n      <td>2</td>\n      <td>0</td>\n      <td>...</td>\n      <td>7</td>\n      <td>7</td>\n      <td>0</td>\n      <td>2</td>\n      <td>2</td>\n      <td>4</td>\n      <td>7</td>\n      <td>3</td>\n      <td>1</td>\n      <td>0</td>\n    </tr>\n    <tr>\n      <th>4</th>\n      <td>2</td>\n      <td>3</td>\n      <td>3</td>\n      <td>1</td>\n      <td>5</td>\n      <td>1</td>\n      <td>0</td>\n      <td>0</td>\n      <td>10</td>\n      <td>1</td>\n      <td>...</td>\n      <td>3</td>\n      <td>6</td>\n      <td>0</td>\n      <td>2</td>\n      <td>1</td>\n      <td>4</td>\n      <td>2</td>\n      <td>5</td>\n      <td>0</td>\n      <td>0</td>\n    </tr>\n  </tbody>\n</table>\n<p>5 rows × 23 columns</p>\n</div>"
     },
     "execution_count": 6,
     "metadata": {},
     "output_type": "execute_result"
    }
   ],
   "source": [
    "dt = pd.read_csv('https://stepik.org/media/attachments/course/4852/training_mush.csv')\n",
    "dt.head()"
   ]
  },
  {
   "cell_type": "code",
   "execution_count": 7,
   "id": "bf9139be",
   "metadata": {
    "ExecuteTime": {
     "end_time": "2023-09-24T11:49:35.528264400Z",
     "start_time": "2023-09-24T11:49:35.502722400Z"
    }
   },
   "outputs": [],
   "source": [
    "y_train = dt['class']\n",
    "X_train = dt.drop('class', axis=1)"
   ]
  },
  {
   "cell_type": "code",
   "execution_count": 8,
   "id": "691021f1",
   "metadata": {
    "ExecuteTime": {
     "end_time": "2023-09-24T11:49:35.618247300Z",
     "start_time": "2023-09-24T11:49:35.516666400Z"
    }
   },
   "outputs": [],
   "source": [
    "clf = RandomForestClassifier(random_state=0)\n",
    "params = {'n_estimators': range(10, 51, 10),\n",
    "          'max_depth': range(1, 13, 2),\n",
    "          'min_samples_leaf': range(1, 8),\n",
    "          'min_samples_split': range(2, 10, 2)\n",
    "          }"
   ]
  },
  {
   "cell_type": "code",
   "execution_count": 9,
   "id": "2a326275",
   "metadata": {
    "ExecuteTime": {
     "end_time": "2023-09-24T11:49:35.691857200Z",
     "start_time": "2023-09-24T11:49:35.548280400Z"
    }
   },
   "outputs": [],
   "source": [
    "gs = GridSearchCV(estimator=clf, param_grid=params, n_jobs=-1, cv=3)"
   ]
  },
  {
   "cell_type": "code",
   "execution_count": 10,
   "id": "fc9517ea",
   "metadata": {
    "ExecuteTime": {
     "end_time": "2023-09-24T11:50:14.069134600Z",
     "start_time": "2023-09-24T11:49:35.564093Z"
    }
   },
   "outputs": [
    {
     "data": {
      "text/plain": "GridSearchCV(cv=3, estimator=RandomForestClassifier(random_state=0), n_jobs=-1,\n             param_grid={'max_depth': range(1, 13, 2),\n                         'min_samples_leaf': range(1, 8),\n                         'min_samples_split': range(2, 10, 2),\n                         'n_estimators': range(10, 51, 10)})",
      "text/html": "<style>#sk-container-id-1 {color: black;background-color: white;}#sk-container-id-1 pre{padding: 0;}#sk-container-id-1 div.sk-toggleable {background-color: white;}#sk-container-id-1 label.sk-toggleable__label {cursor: pointer;display: block;width: 100%;margin-bottom: 0;padding: 0.3em;box-sizing: border-box;text-align: center;}#sk-container-id-1 label.sk-toggleable__label-arrow:before {content: \"▸\";float: left;margin-right: 0.25em;color: #696969;}#sk-container-id-1 label.sk-toggleable__label-arrow:hover:before {color: black;}#sk-container-id-1 div.sk-estimator:hover label.sk-toggleable__label-arrow:before {color: black;}#sk-container-id-1 div.sk-toggleable__content {max-height: 0;max-width: 0;overflow: hidden;text-align: left;background-color: #f0f8ff;}#sk-container-id-1 div.sk-toggleable__content pre {margin: 0.2em;color: black;border-radius: 0.25em;background-color: #f0f8ff;}#sk-container-id-1 input.sk-toggleable__control:checked~div.sk-toggleable__content {max-height: 200px;max-width: 100%;overflow: auto;}#sk-container-id-1 input.sk-toggleable__control:checked~label.sk-toggleable__label-arrow:before {content: \"▾\";}#sk-container-id-1 div.sk-estimator input.sk-toggleable__control:checked~label.sk-toggleable__label {background-color: #d4ebff;}#sk-container-id-1 div.sk-label input.sk-toggleable__control:checked~label.sk-toggleable__label {background-color: #d4ebff;}#sk-container-id-1 input.sk-hidden--visually {border: 0;clip: rect(1px 1px 1px 1px);clip: rect(1px, 1px, 1px, 1px);height: 1px;margin: -1px;overflow: hidden;padding: 0;position: absolute;width: 1px;}#sk-container-id-1 div.sk-estimator {font-family: monospace;background-color: #f0f8ff;border: 1px dotted black;border-radius: 0.25em;box-sizing: border-box;margin-bottom: 0.5em;}#sk-container-id-1 div.sk-estimator:hover {background-color: #d4ebff;}#sk-container-id-1 div.sk-parallel-item::after {content: \"\";width: 100%;border-bottom: 1px solid gray;flex-grow: 1;}#sk-container-id-1 div.sk-label:hover label.sk-toggleable__label {background-color: #d4ebff;}#sk-container-id-1 div.sk-serial::before {content: \"\";position: absolute;border-left: 1px solid gray;box-sizing: border-box;top: 0;bottom: 0;left: 50%;z-index: 0;}#sk-container-id-1 div.sk-serial {display: flex;flex-direction: column;align-items: center;background-color: white;padding-right: 0.2em;padding-left: 0.2em;position: relative;}#sk-container-id-1 div.sk-item {position: relative;z-index: 1;}#sk-container-id-1 div.sk-parallel {display: flex;align-items: stretch;justify-content: center;background-color: white;position: relative;}#sk-container-id-1 div.sk-item::before, #sk-container-id-1 div.sk-parallel-item::before {content: \"\";position: absolute;border-left: 1px solid gray;box-sizing: border-box;top: 0;bottom: 0;left: 50%;z-index: -1;}#sk-container-id-1 div.sk-parallel-item {display: flex;flex-direction: column;z-index: 1;position: relative;background-color: white;}#sk-container-id-1 div.sk-parallel-item:first-child::after {align-self: flex-end;width: 50%;}#sk-container-id-1 div.sk-parallel-item:last-child::after {align-self: flex-start;width: 50%;}#sk-container-id-1 div.sk-parallel-item:only-child::after {width: 0;}#sk-container-id-1 div.sk-dashed-wrapped {border: 1px dashed gray;margin: 0 0.4em 0.5em 0.4em;box-sizing: border-box;padding-bottom: 0.4em;background-color: white;}#sk-container-id-1 div.sk-label label {font-family: monospace;font-weight: bold;display: inline-block;line-height: 1.2em;}#sk-container-id-1 div.sk-label-container {text-align: center;}#sk-container-id-1 div.sk-container {/* jupyter's `normalize.less` sets `[hidden] { display: none; }` but bootstrap.min.css set `[hidden] { display: none !important; }` so we also need the `!important` here to be able to override the default hidden behavior on the sphinx rendered scikit-learn.org. See: https://github.com/scikit-learn/scikit-learn/issues/21755 */display: inline-block !important;position: relative;}#sk-container-id-1 div.sk-text-repr-fallback {display: none;}</style><div id=\"sk-container-id-1\" class=\"sk-top-container\"><div class=\"sk-text-repr-fallback\"><pre>GridSearchCV(cv=3, estimator=RandomForestClassifier(random_state=0), n_jobs=-1,\n             param_grid={&#x27;max_depth&#x27;: range(1, 13, 2),\n                         &#x27;min_samples_leaf&#x27;: range(1, 8),\n                         &#x27;min_samples_split&#x27;: range(2, 10, 2),\n                         &#x27;n_estimators&#x27;: range(10, 51, 10)})</pre><b>In a Jupyter environment, please rerun this cell to show the HTML representation or trust the notebook. <br />On GitHub, the HTML representation is unable to render, please try loading this page with nbviewer.org.</b></div><div class=\"sk-container\" hidden><div class=\"sk-item sk-dashed-wrapped\"><div class=\"sk-label-container\"><div class=\"sk-label sk-toggleable\"><input class=\"sk-toggleable__control sk-hidden--visually\" id=\"sk-estimator-id-1\" type=\"checkbox\" ><label for=\"sk-estimator-id-1\" class=\"sk-toggleable__label sk-toggleable__label-arrow\">GridSearchCV</label><div class=\"sk-toggleable__content\"><pre>GridSearchCV(cv=3, estimator=RandomForestClassifier(random_state=0), n_jobs=-1,\n             param_grid={&#x27;max_depth&#x27;: range(1, 13, 2),\n                         &#x27;min_samples_leaf&#x27;: range(1, 8),\n                         &#x27;min_samples_split&#x27;: range(2, 10, 2),\n                         &#x27;n_estimators&#x27;: range(10, 51, 10)})</pre></div></div></div><div class=\"sk-parallel\"><div class=\"sk-parallel-item\"><div class=\"sk-item\"><div class=\"sk-label-container\"><div class=\"sk-label sk-toggleable\"><input class=\"sk-toggleable__control sk-hidden--visually\" id=\"sk-estimator-id-2\" type=\"checkbox\" ><label for=\"sk-estimator-id-2\" class=\"sk-toggleable__label sk-toggleable__label-arrow\">estimator: RandomForestClassifier</label><div class=\"sk-toggleable__content\"><pre>RandomForestClassifier(random_state=0)</pre></div></div></div><div class=\"sk-serial\"><div class=\"sk-item\"><div class=\"sk-estimator sk-toggleable\"><input class=\"sk-toggleable__control sk-hidden--visually\" id=\"sk-estimator-id-3\" type=\"checkbox\" ><label for=\"sk-estimator-id-3\" class=\"sk-toggleable__label sk-toggleable__label-arrow\">RandomForestClassifier</label><div class=\"sk-toggleable__content\"><pre>RandomForestClassifier(random_state=0)</pre></div></div></div></div></div></div></div></div></div></div>"
     },
     "execution_count": 10,
     "metadata": {},
     "output_type": "execute_result"
    }
   ],
   "source": [
    "gs.fit(X_train, y_train)"
   ]
  },
  {
   "cell_type": "code",
   "execution_count": 11,
   "id": "b5e58872",
   "metadata": {
    "ExecuteTime": {
     "end_time": "2023-09-24T11:50:14.108611900Z",
     "start_time": "2023-09-24T11:50:14.070128600Z"
    }
   },
   "outputs": [
    {
     "data": {
      "text/plain": "{'max_depth': 9,\n 'min_samples_leaf': 1,\n 'min_samples_split': 2,\n 'n_estimators': 10}"
     },
     "execution_count": 11,
     "metadata": {},
     "output_type": "execute_result"
    }
   ],
   "source": [
    "gs.best_params_"
   ]
  },
  {
   "cell_type": "markdown",
   "id": "09173317",
   "metadata": {},
   "source": [
    "## Task 2"
   ]
  },
  {
   "cell_type": "code",
   "execution_count": 12,
   "id": "62580702",
   "metadata": {
    "ExecuteTime": {
     "end_time": "2023-09-24T11:50:14.126679800Z",
     "start_time": "2023-09-24T11:50:14.087131200Z"
    }
   },
   "outputs": [],
   "source": [
    "best = gs.best_estimator_\n"
   ]
  },
  {
   "cell_type": "code",
   "execution_count": 13,
   "id": "26fd54c6",
   "metadata": {
    "ExecuteTime": {
     "end_time": "2023-09-24T11:50:14.159494400Z",
     "start_time": "2023-09-24T11:50:14.117615100Z"
    }
   },
   "outputs": [
    {
     "data": {
      "text/plain": "                    features  feature_importances\n4                       odor             0.188376\n8                 gill-color             0.103861\n10                stalk-root             0.103793\n19         spore-print-color             0.083564\n6               gill-spacing             0.080840\n18                 ring-type             0.070726\n3                    bruises             0.070109\n7                  gill-size             0.068461\n12  stalk-surface-below-ring             0.048296\n20                population             0.043783\n11  stalk-surface-above-ring             0.031802\n21                   habitat             0.022611\n2                  cap-color             0.021773\n13    stalk-color-above-ring             0.017689\n17               ring-number             0.013910\n16                veil-color             0.010881\n9                stalk-shape             0.007563\n14    stalk-color-below-ring             0.006253\n1                cap-surface             0.003130\n0                  cap-shape             0.002577\n15                 veil-type             0.000000\n5            gill-attachment             0.000000",
      "text/html": "<div>\n<style scoped>\n    .dataframe tbody tr th:only-of-type {\n        vertical-align: middle;\n    }\n\n    .dataframe tbody tr th {\n        vertical-align: top;\n    }\n\n    .dataframe thead th {\n        text-align: right;\n    }\n</style>\n<table border=\"1\" class=\"dataframe\">\n  <thead>\n    <tr style=\"text-align: right;\">\n      <th></th>\n      <th>features</th>\n      <th>feature_importances</th>\n    </tr>\n  </thead>\n  <tbody>\n    <tr>\n      <th>4</th>\n      <td>odor</td>\n      <td>0.188376</td>\n    </tr>\n    <tr>\n      <th>8</th>\n      <td>gill-color</td>\n      <td>0.103861</td>\n    </tr>\n    <tr>\n      <th>10</th>\n      <td>stalk-root</td>\n      <td>0.103793</td>\n    </tr>\n    <tr>\n      <th>19</th>\n      <td>spore-print-color</td>\n      <td>0.083564</td>\n    </tr>\n    <tr>\n      <th>6</th>\n      <td>gill-spacing</td>\n      <td>0.080840</td>\n    </tr>\n    <tr>\n      <th>18</th>\n      <td>ring-type</td>\n      <td>0.070726</td>\n    </tr>\n    <tr>\n      <th>3</th>\n      <td>bruises</td>\n      <td>0.070109</td>\n    </tr>\n    <tr>\n      <th>7</th>\n      <td>gill-size</td>\n      <td>0.068461</td>\n    </tr>\n    <tr>\n      <th>12</th>\n      <td>stalk-surface-below-ring</td>\n      <td>0.048296</td>\n    </tr>\n    <tr>\n      <th>20</th>\n      <td>population</td>\n      <td>0.043783</td>\n    </tr>\n    <tr>\n      <th>11</th>\n      <td>stalk-surface-above-ring</td>\n      <td>0.031802</td>\n    </tr>\n    <tr>\n      <th>21</th>\n      <td>habitat</td>\n      <td>0.022611</td>\n    </tr>\n    <tr>\n      <th>2</th>\n      <td>cap-color</td>\n      <td>0.021773</td>\n    </tr>\n    <tr>\n      <th>13</th>\n      <td>stalk-color-above-ring</td>\n      <td>0.017689</td>\n    </tr>\n    <tr>\n      <th>17</th>\n      <td>ring-number</td>\n      <td>0.013910</td>\n    </tr>\n    <tr>\n      <th>16</th>\n      <td>veil-color</td>\n      <td>0.010881</td>\n    </tr>\n    <tr>\n      <th>9</th>\n      <td>stalk-shape</td>\n      <td>0.007563</td>\n    </tr>\n    <tr>\n      <th>14</th>\n      <td>stalk-color-below-ring</td>\n      <td>0.006253</td>\n    </tr>\n    <tr>\n      <th>1</th>\n      <td>cap-surface</td>\n      <td>0.003130</td>\n    </tr>\n    <tr>\n      <th>0</th>\n      <td>cap-shape</td>\n      <td>0.002577</td>\n    </tr>\n    <tr>\n      <th>15</th>\n      <td>veil-type</td>\n      <td>0.000000</td>\n    </tr>\n    <tr>\n      <th>5</th>\n      <td>gill-attachment</td>\n      <td>0.000000</td>\n    </tr>\n  </tbody>\n</table>\n</div>"
     },
     "execution_count": 13,
     "metadata": {},
     "output_type": "execute_result"
    }
   ],
   "source": [
    "feature_importances = best.feature_importances_\n",
    "features = pd.DataFrame({'features': list(X_train),\n",
    "                         'feature_importances': feature_importances}\n",
    "                        )\n",
    "features.sort_values('feature_importances', ascending=False)"
   ]
  },
  {
   "cell_type": "code",
   "execution_count": 14,
   "id": "b1d0940d",
   "metadata": {
    "ExecuteTime": {
     "end_time": "2023-09-24T11:50:15.474476900Z",
     "start_time": "2023-09-24T11:50:14.131496700Z"
    }
   },
   "outputs": [
    {
     "data": {
      "text/plain": "   cap-shape  cap-surface  cap-color  bruises  odor  gill-attachment  \\\n0          0            3          8        1     3                1   \n1          5            3          4        1     5                1   \n2          3            3          4        0     8                1   \n3          3            2          2        0     7                1   \n4          3            2          2        0     8                1   \n\n   gill-spacing  gill-size  gill-color  stalk-shape  ...  \\\n0             0          0           4            0  ...   \n1             0          0          10            1  ...   \n2             0          1           0            1  ...   \n3             0          1           0            1  ...   \n4             0          1           0            1  ...   \n\n   stalk-surface-below-ring  stalk-color-above-ring  stalk-color-below-ring  \\\n0                         2                       7                       7   \n1                         2                       6                       6   \n2                         2                       7                       6   \n3                         1                       6                       7   \n4                         1                       6                       6   \n\n   veil-type  veil-color  ring-number  ring-type  spore-print-color  \\\n0          0           2            1          4                  2   \n1          0           2            1          4                  3   \n2          0           2            1          0                  7   \n3          0           2            1          0                  7   \n4          0           2            1          0                  7   \n\n   population  habitat  \n0           3        3  \n1           5        0  \n2           4        4  \n3           4        0  \n4           4        4  \n\n[5 rows x 22 columns]",
      "text/html": "<div>\n<style scoped>\n    .dataframe tbody tr th:only-of-type {\n        vertical-align: middle;\n    }\n\n    .dataframe tbody tr th {\n        vertical-align: top;\n    }\n\n    .dataframe thead th {\n        text-align: right;\n    }\n</style>\n<table border=\"1\" class=\"dataframe\">\n  <thead>\n    <tr style=\"text-align: right;\">\n      <th></th>\n      <th>cap-shape</th>\n      <th>cap-surface</th>\n      <th>cap-color</th>\n      <th>bruises</th>\n      <th>odor</th>\n      <th>gill-attachment</th>\n      <th>gill-spacing</th>\n      <th>gill-size</th>\n      <th>gill-color</th>\n      <th>stalk-shape</th>\n      <th>...</th>\n      <th>stalk-surface-below-ring</th>\n      <th>stalk-color-above-ring</th>\n      <th>stalk-color-below-ring</th>\n      <th>veil-type</th>\n      <th>veil-color</th>\n      <th>ring-number</th>\n      <th>ring-type</th>\n      <th>spore-print-color</th>\n      <th>population</th>\n      <th>habitat</th>\n    </tr>\n  </thead>\n  <tbody>\n    <tr>\n      <th>0</th>\n      <td>0</td>\n      <td>3</td>\n      <td>8</td>\n      <td>1</td>\n      <td>3</td>\n      <td>1</td>\n      <td>0</td>\n      <td>0</td>\n      <td>4</td>\n      <td>0</td>\n      <td>...</td>\n      <td>2</td>\n      <td>7</td>\n      <td>7</td>\n      <td>0</td>\n      <td>2</td>\n      <td>1</td>\n      <td>4</td>\n      <td>2</td>\n      <td>3</td>\n      <td>3</td>\n    </tr>\n    <tr>\n      <th>1</th>\n      <td>5</td>\n      <td>3</td>\n      <td>4</td>\n      <td>1</td>\n      <td>5</td>\n      <td>1</td>\n      <td>0</td>\n      <td>0</td>\n      <td>10</td>\n      <td>1</td>\n      <td>...</td>\n      <td>2</td>\n      <td>6</td>\n      <td>6</td>\n      <td>0</td>\n      <td>2</td>\n      <td>1</td>\n      <td>4</td>\n      <td>3</td>\n      <td>5</td>\n      <td>0</td>\n    </tr>\n    <tr>\n      <th>2</th>\n      <td>3</td>\n      <td>3</td>\n      <td>4</td>\n      <td>0</td>\n      <td>8</td>\n      <td>1</td>\n      <td>0</td>\n      <td>1</td>\n      <td>0</td>\n      <td>1</td>\n      <td>...</td>\n      <td>2</td>\n      <td>7</td>\n      <td>6</td>\n      <td>0</td>\n      <td>2</td>\n      <td>1</td>\n      <td>0</td>\n      <td>7</td>\n      <td>4</td>\n      <td>4</td>\n    </tr>\n    <tr>\n      <th>3</th>\n      <td>3</td>\n      <td>2</td>\n      <td>2</td>\n      <td>0</td>\n      <td>7</td>\n      <td>1</td>\n      <td>0</td>\n      <td>1</td>\n      <td>0</td>\n      <td>1</td>\n      <td>...</td>\n      <td>1</td>\n      <td>6</td>\n      <td>7</td>\n      <td>0</td>\n      <td>2</td>\n      <td>1</td>\n      <td>0</td>\n      <td>7</td>\n      <td>4</td>\n      <td>0</td>\n    </tr>\n    <tr>\n      <th>4</th>\n      <td>3</td>\n      <td>2</td>\n      <td>2</td>\n      <td>0</td>\n      <td>8</td>\n      <td>1</td>\n      <td>0</td>\n      <td>1</td>\n      <td>0</td>\n      <td>1</td>\n      <td>...</td>\n      <td>1</td>\n      <td>6</td>\n      <td>6</td>\n      <td>0</td>\n      <td>2</td>\n      <td>1</td>\n      <td>0</td>\n      <td>7</td>\n      <td>4</td>\n      <td>4</td>\n    </tr>\n  </tbody>\n</table>\n<p>5 rows × 22 columns</p>\n</div>"
     },
     "execution_count": 14,
     "metadata": {},
     "output_type": "execute_result"
    }
   ],
   "source": [
    "test = pd.read_csv('https://stepik.org/media/attachments/course/4852/testing_mush.csv')\n",
    "test.head()"
   ]
  },
  {
   "cell_type": "code",
   "execution_count": 15,
   "id": "9bddff1d",
   "metadata": {
    "ExecuteTime": {
     "end_time": "2023-09-24T11:50:15.547072400Z",
     "start_time": "2023-09-24T11:50:15.476477200Z"
    }
   },
   "outputs": [],
   "source": [
    "predictions = best.predict(test)"
   ]
  },
  {
   "cell_type": "code",
   "execution_count": 16,
   "id": "d9435fa8",
   "metadata": {
    "ExecuteTime": {
     "end_time": "2023-09-24T11:50:15.625462700Z",
     "start_time": "2023-09-24T11:50:15.506360800Z"
    }
   },
   "outputs": [
    {
     "data": {
      "text/plain": "0    1055\n1     976\ndtype: int64"
     },
     "execution_count": 16,
     "metadata": {},
     "output_type": "execute_result"
    }
   ],
   "source": [
    "pd.Series(predictions).value_counts()"
   ]
  },
  {
   "cell_type": "markdown",
   "id": "56cf9090",
   "metadata": {},
   "source": [
    "## Task 3"
   ]
  },
  {
   "cell_type": "code",
   "execution_count": 17,
   "id": "2f3ee42e",
   "metadata": {
    "ExecuteTime": {
     "end_time": "2023-09-24T11:50:15.633907900Z",
     "start_time": "2023-09-24T11:50:15.538276700Z"
    }
   },
   "outputs": [],
   "source": [
    "from sklearn.metrics import confusion_matrix, ConfusionMatrixDisplay\n",
    "import seaborn as sns"
   ]
  },
  {
   "cell_type": "code",
   "execution_count": 19,
   "id": "3107feef",
   "metadata": {
    "ExecuteTime": {
     "end_time": "2023-09-24T11:50:31.905955200Z",
     "start_time": "2023-09-24T11:50:31.888954400Z"
    }
   },
   "outputs": [
    {
     "data": {
      "text/plain": "   class\n0      0\n1      0\n2      1\n3      1\n4      1",
      "text/html": "<div>\n<style scoped>\n    .dataframe tbody tr th:only-of-type {\n        vertical-align: middle;\n    }\n\n    .dataframe tbody tr th {\n        vertical-align: top;\n    }\n\n    .dataframe thead th {\n        text-align: right;\n    }\n</style>\n<table border=\"1\" class=\"dataframe\">\n  <thead>\n    <tr style=\"text-align: right;\">\n      <th></th>\n      <th>class</th>\n    </tr>\n  </thead>\n  <tbody>\n    <tr>\n      <th>0</th>\n      <td>0</td>\n    </tr>\n    <tr>\n      <th>1</th>\n      <td>0</td>\n    </tr>\n    <tr>\n      <th>2</th>\n      <td>1</td>\n    </tr>\n    <tr>\n      <th>3</th>\n      <td>1</td>\n    </tr>\n    <tr>\n      <th>4</th>\n      <td>1</td>\n    </tr>\n  </tbody>\n</table>\n</div>"
     },
     "execution_count": 19,
     "metadata": {},
     "output_type": "execute_result"
    }
   ],
   "source": [
    "mr = pd.read_csv('datasets/testing_y_mush.csv')\n",
    "mr.head()"
   ]
  },
  {
   "cell_type": "code",
   "execution_count": 20,
   "id": "dbbaeeaa",
   "metadata": {
    "ExecuteTime": {
     "end_time": "2023-09-24T11:50:38.045878900Z",
     "start_time": "2023-09-24T11:50:38.014171Z"
    }
   },
   "outputs": [],
   "source": [
    "cm = confusion_matrix(mr, predictions)"
   ]
  },
  {
   "cell_type": "code",
   "execution_count": 22,
   "id": "b62a498f",
   "metadata": {
    "ExecuteTime": {
     "end_time": "2023-09-24T11:50:42.805331200Z",
     "start_time": "2023-09-24T11:50:42.569709900Z"
    }
   },
   "outputs": [
    {
     "data": {
      "text/plain": "<Axes: >"
     },
     "execution_count": 22,
     "metadata": {},
     "output_type": "execute_result"
    },
    {
     "data": {
      "text/plain": "<Figure size 640x480 with 2 Axes>",
      "image/png": "[encoded data removed]"
     },
     "metadata": {},
     "output_type": "display_data"
    }
   ],
   "source": [
    "#disp = ConfusionMatrixDisplay(confusion_matrix=cm)\n",
    "#disp.plot()\n",
    "sns.heatmap(cm, annot=True, cmap=\"Blues\")"
   ]
  },
  {
   "cell_type": "markdown",
   "id": "29139f75",
   "metadata": {},
   "source": [
    "## Task 4"
   ]
  },
  {
   "cell_type": "code",
   "execution_count": 23,
   "id": "6ae19cdd",
   "metadata": {
    "ExecuteTime": {
     "end_time": "2023-09-24T11:50:45.356325400Z",
     "start_time": "2023-09-24T11:50:45.340286700Z"
    }
   },
   "outputs": [],
   "source": [
    "from sklearn.model_selection import RandomizedSearchCV"
   ]
  },
  {
   "cell_type": "code",
   "execution_count": 24,
   "id": "8cc8a2b2",
   "metadata": {
    "ExecuteTime": {
     "end_time": "2023-09-24T11:50:47.009018300Z",
     "start_time": "2023-09-24T11:50:46.156689900Z"
    }
   },
   "outputs": [
    {
     "data": {
      "text/plain": "       class  g_reflection  i_reflection       speed  brightness  \\\n0  transport      2.190672      6.716633   62.168208    0.347465   \n1  transport      3.453276      8.995909   62.994707    0.590094   \n2  transport      2.432994      6.938691   62.245807    0.329288   \n3    fighter      6.083763      3.019459   18.474555    0.174738   \n4    fighter     12.876769      2.452950  195.805771    0.150446   \n\n   time_of_observance     volume  \n0              158221  44.932446  \n1              385972  41.568300  \n2              446482  40.123467  \n3              210125  11.384865  \n4               23109  11.328806  ",
      "text/html": "<div>\n<style scoped>\n    .dataframe tbody tr th:only-of-type {\n        vertical-align: middle;\n    }\n\n    .dataframe tbody tr th {\n        vertical-align: top;\n    }\n\n    .dataframe thead th {\n        text-align: right;\n    }\n</style>\n<table border=\"1\" class=\"dataframe\">\n  <thead>\n    <tr style=\"text-align: right;\">\n      <th></th>\n      <th>class</th>\n      <th>g_reflection</th>\n      <th>i_reflection</th>\n      <th>speed</th>\n      <th>brightness</th>\n      <th>time_of_observance</th>\n      <th>volume</th>\n    </tr>\n  </thead>\n  <tbody>\n    <tr>\n      <th>0</th>\n      <td>transport</td>\n      <td>2.190672</td>\n      <td>6.716633</td>\n      <td>62.168208</td>\n      <td>0.347465</td>\n      <td>158221</td>\n      <td>44.932446</td>\n    </tr>\n    <tr>\n      <th>1</th>\n      <td>transport</td>\n      <td>3.453276</td>\n      <td>8.995909</td>\n      <td>62.994707</td>\n      <td>0.590094</td>\n      <td>385972</td>\n      <td>41.568300</td>\n    </tr>\n    <tr>\n      <th>2</th>\n      <td>transport</td>\n      <td>2.432994</td>\n      <td>6.938691</td>\n      <td>62.245807</td>\n      <td>0.329288</td>\n      <td>446482</td>\n      <td>40.123467</td>\n    </tr>\n    <tr>\n      <th>3</th>\n      <td>fighter</td>\n      <td>6.083763</td>\n      <td>3.019459</td>\n      <td>18.474555</td>\n      <td>0.174738</td>\n      <td>210125</td>\n      <td>11.384865</td>\n    </tr>\n    <tr>\n      <th>4</th>\n      <td>fighter</td>\n      <td>12.876769</td>\n      <td>2.452950</td>\n      <td>195.805771</td>\n      <td>0.150446</td>\n      <td>23109</td>\n      <td>11.328806</td>\n    </tr>\n  </tbody>\n</table>\n</div>"
     },
     "execution_count": 24,
     "metadata": {},
     "output_type": "execute_result"
    }
   ],
   "source": [
    "dt = pd.read_csv('https://stepik.org/media/attachments/course/4852/invasion.csv')\n",
    "dt.head()"
   ]
  },
  {
   "cell_type": "code",
   "execution_count": 25,
   "id": "ac547632",
   "metadata": {
    "scrolled": true,
    "ExecuteTime": {
     "end_time": "2023-09-24T11:50:47.844016400Z",
     "start_time": "2023-09-24T11:50:47.836024Z"
    }
   },
   "outputs": [],
   "source": [
    "y_train = dt['class']\n",
    "X_train = dt.drop('class', axis=1)"
   ]
  },
  {
   "cell_type": "code",
   "execution_count": null,
   "id": "7aac06f6",
   "metadata": {
    "ExecuteTime": {
     "start_time": "2023-09-24T11:50:17.515771300Z"
    }
   },
   "outputs": [],
   "source": []
  },
  {
   "cell_type": "code",
   "execution_count": 26,
   "id": "23ffbada",
   "metadata": {
    "ExecuteTime": {
     "end_time": "2023-09-24T11:50:49.378481700Z",
     "start_time": "2023-09-24T11:50:49.367751100Z"
    }
   },
   "outputs": [],
   "source": [
    "clf = RandomForestClassifier(random_state=0)\n",
    "params = {'n_estimators': range(10, 100),\n",
    "          'max_depth': range(1, 30),\n",
    "          'min_samples_leaf': range(1, 15),\n",
    "          'min_samples_split': range(2, 15)\n",
    "          }"
   ]
  },
  {
   "cell_type": "code",
   "execution_count": 27,
   "id": "cb60799a",
   "metadata": {
    "ExecuteTime": {
     "end_time": "2023-09-24T11:50:50.458329900Z",
     "start_time": "2023-09-24T11:50:50.448900500Z"
    }
   },
   "outputs": [],
   "source": [
    "gs = RandomizedSearchCV(estimator=clf, param_distributions=params, n_jobs=-1, cv=3, n_iter=30)"
   ]
  },
  {
   "cell_type": "code",
   "execution_count": 28,
   "id": "81f58443",
   "metadata": {
    "ExecuteTime": {
     "end_time": "2023-09-24T11:50:52.805698200Z",
     "start_time": "2023-09-24T11:50:51.021377900Z"
    }
   },
   "outputs": [
    {
     "data": {
      "text/plain": "RandomizedSearchCV(cv=3, estimator=RandomForestClassifier(random_state=0),\n                   n_iter=30, n_jobs=-1,\n                   param_distributions={'max_depth': range(1, 30),\n                                        'min_samples_leaf': range(1, 15),\n                                        'min_samples_split': range(2, 15),\n                                        'n_estimators': range(10, 100)})",
      "text/html": "<style>#sk-container-id-2 {color: black;background-color: white;}#sk-container-id-2 pre{padding: 0;}#sk-container-id-2 div.sk-toggleable {background-color: white;}#sk-container-id-2 label.sk-toggleable__label {cursor: pointer;display: block;width: 100%;margin-bottom: 0;padding: 0.3em;box-sizing: border-box;text-align: center;}#sk-container-id-2 label.sk-toggleable__label-arrow:before {content: \"▸\";float: left;margin-right: 0.25em;color: #696969;}#sk-container-id-2 label.sk-toggleable__label-arrow:hover:before {color: black;}#sk-container-id-2 div.sk-estimator:hover label.sk-toggleable__label-arrow:before {color: black;}#sk-container-id-2 div.sk-toggleable__content {max-height: 0;max-width: 0;overflow: hidden;text-align: left;background-color: #f0f8ff;}#sk-container-id-2 div.sk-toggleable__content pre {margin: 0.2em;color: black;border-radius: 0.25em;background-color: #f0f8ff;}#sk-container-id-2 input.sk-toggleable__control:checked~div.sk-toggleable__content {max-height: 200px;max-width: 100%;overflow: auto;}#sk-container-id-2 input.sk-toggleable__control:checked~label.sk-toggleable__label-arrow:before {content: \"▾\";}#sk-container-id-2 div.sk-estimator input.sk-toggleable__control:checked~label.sk-toggleable__label {background-color: #d4ebff;}#sk-container-id-2 div.sk-label input.sk-toggleable__control:checked~label.sk-toggleable__label {background-color: #d4ebff;}#sk-container-id-2 input.sk-hidden--visually {border: 0;clip: rect(1px 1px 1px 1px);clip: rect(1px, 1px, 1px, 1px);height: 1px;margin: -1px;overflow: hidden;padding: 0;position: absolute;width: 1px;}#sk-container-id-2 div.sk-estimator {font-family: monospace;background-color: #f0f8ff;border: 1px dotted black;border-radius: 0.25em;box-sizing: border-box;margin-bottom: 0.5em;}#sk-container-id-2 div.sk-estimator:hover {background-color: #d4ebff;}#sk-container-id-2 div.sk-parallel-item::after {content: \"\";width: 100%;border-bottom: 1px solid gray;flex-grow: 1;}#sk-container-id-2 div.sk-label:hover label.sk-toggleable__label {background-color: #d4ebff;}#sk-container-id-2 div.sk-serial::before {content: \"\";position: absolute;border-left: 1px solid gray;box-sizing: border-box;top: 0;bottom: 0;left: 50%;z-index: 0;}#sk-container-id-2 div.sk-serial {display: flex;flex-direction: column;align-items: center;background-color: white;padding-right: 0.2em;padding-left: 0.2em;position: relative;}#sk-container-id-2 div.sk-item {position: relative;z-index: 1;}#sk-container-id-2 div.sk-parallel {display: flex;align-items: stretch;justify-content: center;background-color: white;position: relative;}#sk-container-id-2 div.sk-item::before, #sk-container-id-2 div.sk-parallel-item::before {content: \"\";position: absolute;border-left: 1px solid gray;box-sizing: border-box;top: 0;bottom: 0;left: 50%;z-index: -1;}#sk-container-id-2 div.sk-parallel-item {display: flex;flex-direction: column;z-index: 1;position: relative;background-color: white;}#sk-container-id-2 div.sk-parallel-item:first-child::after {align-self: flex-end;width: 50%;}#sk-container-id-2 div.sk-parallel-item:last-child::after {align-self: flex-start;width: 50%;}#sk-container-id-2 div.sk-parallel-item:only-child::after {width: 0;}#sk-container-id-2 div.sk-dashed-wrapped {border: 1px dashed gray;margin: 0 0.4em 0.5em 0.4em;box-sizing: border-box;padding-bottom: 0.4em;background-color: white;}#sk-container-id-2 div.sk-label label {font-family: monospace;font-weight: bold;display: inline-block;line-height: 1.2em;}#sk-container-id-2 div.sk-label-container {text-align: center;}#sk-container-id-2 div.sk-container {/* jupyter's `normalize.less` sets `[hidden] { display: none; }` but bootstrap.min.css set `[hidden] { display: none !important; }` so we also need the `!important` here to be able to override the default hidden behavior on the sphinx rendered scikit-learn.org. See: https://github.com/scikit-learn/scikit-learn/issues/21755 */display: inline-block !important;position: relative;}#sk-container-id-2 div.sk-text-repr-fallback {display: none;}</style><div id=\"sk-container-id-2\" class=\"sk-top-container\"><div class=\"sk-text-repr-fallback\"><pre>RandomizedSearchCV(cv=3, estimator=RandomForestClassifier(random_state=0),\n                   n_iter=30, n_jobs=-1,\n                   param_distributions={&#x27;max_depth&#x27;: range(1, 30),\n                                        &#x27;min_samples_leaf&#x27;: range(1, 15),\n                                        &#x27;min_samples_split&#x27;: range(2, 15),\n                                        &#x27;n_estimators&#x27;: range(10, 100)})</pre><b>In a Jupyter environment, please rerun this cell to show the HTML representation or trust the notebook. <br />On GitHub, the HTML representation is unable to render, please try loading this page with nbviewer.org.</b></div><div class=\"sk-container\" hidden><div class=\"sk-item sk-dashed-wrapped\"><div class=\"sk-label-container\"><div class=\"sk-label sk-toggleable\"><input class=\"sk-toggleable__control sk-hidden--visually\" id=\"sk-estimator-id-4\" type=\"checkbox\" ><label for=\"sk-estimator-id-4\" class=\"sk-toggleable__label sk-toggleable__label-arrow\">RandomizedSearchCV</label><div class=\"sk-toggleable__content\"><pre>RandomizedSearchCV(cv=3, estimator=RandomForestClassifier(random_state=0),\n                   n_iter=30, n_jobs=-1,\n                   param_distributions={&#x27;max_depth&#x27;: range(1, 30),\n                                        &#x27;min_samples_leaf&#x27;: range(1, 15),\n                                        &#x27;min_samples_split&#x27;: range(2, 15),\n                                        &#x27;n_estimators&#x27;: range(10, 100)})</pre></div></div></div><div class=\"sk-parallel\"><div class=\"sk-parallel-item\"><div class=\"sk-item\"><div class=\"sk-label-container\"><div class=\"sk-label sk-toggleable\"><input class=\"sk-toggleable__control sk-hidden--visually\" id=\"sk-estimator-id-5\" type=\"checkbox\" ><label for=\"sk-estimator-id-5\" class=\"sk-toggleable__label sk-toggleable__label-arrow\">estimator: RandomForestClassifier</label><div class=\"sk-toggleable__content\"><pre>RandomForestClassifier(random_state=0)</pre></div></div></div><div class=\"sk-serial\"><div class=\"sk-item\"><div class=\"sk-estimator sk-toggleable\"><input class=\"sk-toggleable__control sk-hidden--visually\" id=\"sk-estimator-id-6\" type=\"checkbox\" ><label for=\"sk-estimator-id-6\" class=\"sk-toggleable__label sk-toggleable__label-arrow\">RandomForestClassifier</label><div class=\"sk-toggleable__content\"><pre>RandomForestClassifier(random_state=0)</pre></div></div></div></div></div></div></div></div></div></div>"
     },
     "execution_count": 28,
     "metadata": {},
     "output_type": "execute_result"
    }
   ],
   "source": [
    "gs.fit(X_train, y_train)"
   ]
  },
  {
   "cell_type": "code",
   "execution_count": 29,
   "id": "815365ef",
   "metadata": {
    "ExecuteTime": {
     "end_time": "2023-09-24T11:50:55.088102900Z",
     "start_time": "2023-09-24T11:50:55.044843300Z"
    }
   },
   "outputs": [
    {
     "data": {
      "text/plain": "{'n_estimators': 19,\n 'min_samples_split': 2,\n 'min_samples_leaf': 10,\n 'max_depth': 16}"
     },
     "execution_count": 29,
     "metadata": {},
     "output_type": "execute_result"
    }
   ],
   "source": [
    "best = gs.best_estimator_\n",
    "gs.best_params_"
   ]
  },
  {
   "cell_type": "code",
   "execution_count": 30,
   "id": "70fc0137",
   "metadata": {
    "ExecuteTime": {
     "end_time": "2023-09-24T11:51:07.563552700Z",
     "start_time": "2023-09-24T11:51:05.664166900Z"
    }
   },
   "outputs": [],
   "source": [
    "test = pd.read_csv('https://stepik.org/media/attachments/course/4852/operative_information.csv')"
   ]
  },
  {
   "cell_type": "code",
   "execution_count": 31,
   "id": "8bf0510e",
   "metadata": {
    "ExecuteTime": {
     "end_time": "2023-09-24T11:51:10.601291Z",
     "start_time": "2023-09-24T11:51:10.571523400Z"
    }
   },
   "outputs": [],
   "source": [
    "predictions = best.predict(test)"
   ]
  },
  {
   "cell_type": "code",
   "execution_count": 32,
   "id": "a1929b5e",
   "metadata": {
    "ExecuteTime": {
     "end_time": "2023-09-24T11:51:12.057261Z",
     "start_time": "2023-09-24T11:51:12.037201Z"
    }
   },
   "outputs": [
    {
     "data": {
      "text/plain": "fighter      675\ntransport    595\ncruiser      230\ndtype: int64"
     },
     "execution_count": 32,
     "metadata": {},
     "output_type": "execute_result"
    }
   ],
   "source": [
    "pd.Series(predictions).value_counts()"
   ]
  },
  {
   "cell_type": "markdown",
   "id": "93186518",
   "metadata": {},
   "source": [
    "## Task 5"
   ]
  },
  {
   "cell_type": "code",
   "execution_count": 33,
   "id": "e0ac34cd",
   "metadata": {
    "ExecuteTime": {
     "end_time": "2023-09-24T11:51:16.135941500Z",
     "start_time": "2023-09-24T11:51:16.097762500Z"
    }
   },
   "outputs": [
    {
     "data": {
      "text/plain": "             features  feature_importances\n5              volume             0.340243\n3          brightness             0.271151\n1        i_reflection             0.143389\n0        g_reflection             0.130657\n2               speed             0.114535\n4  time_of_observance             0.000025",
      "text/html": "<div>\n<style scoped>\n    .dataframe tbody tr th:only-of-type {\n        vertical-align: middle;\n    }\n\n    .dataframe tbody tr th {\n        vertical-align: top;\n    }\n\n    .dataframe thead th {\n        text-align: right;\n    }\n</style>\n<table border=\"1\" class=\"dataframe\">\n  <thead>\n    <tr style=\"text-align: right;\">\n      <th></th>\n      <th>features</th>\n      <th>feature_importances</th>\n    </tr>\n  </thead>\n  <tbody>\n    <tr>\n      <th>5</th>\n      <td>volume</td>\n      <td>0.340243</td>\n    </tr>\n    <tr>\n      <th>3</th>\n      <td>brightness</td>\n      <td>0.271151</td>\n    </tr>\n    <tr>\n      <th>1</th>\n      <td>i_reflection</td>\n      <td>0.143389</td>\n    </tr>\n    <tr>\n      <th>0</th>\n      <td>g_reflection</td>\n      <td>0.130657</td>\n    </tr>\n    <tr>\n      <th>2</th>\n      <td>speed</td>\n      <td>0.114535</td>\n    </tr>\n    <tr>\n      <th>4</th>\n      <td>time_of_observance</td>\n      <td>0.000025</td>\n    </tr>\n  </tbody>\n</table>\n</div>"
     },
     "execution_count": 33,
     "metadata": {},
     "output_type": "execute_result"
    }
   ],
   "source": [
    "feature_importances = best.feature_importances_\n",
    "features = pd.DataFrame({'features': list(X_train),\n",
    "                         'feature_importances': feature_importances}\n",
    "                        )\n",
    "features.sort_values('feature_importances', ascending=False)"
   ]
  },
  {
   "cell_type": "markdown",
   "id": "9e1734db",
   "metadata": {},
   "source": [
    "## Task 6"
   ]
  },
  {
   "cell_type": "code",
   "execution_count": 34,
   "id": "a32c88c3",
   "metadata": {
    "ExecuteTime": {
     "end_time": "2023-09-24T11:52:38.262676700Z",
     "start_time": "2023-09-24T11:51:18.459759600Z"
    }
   },
   "outputs": [
    {
     "data": {
      "text/plain": "       r    phi  peradventure_index  dustiness  black_hole_is_near  \\\n0  169.1  138.0             22.3212   0.706285                   0   \n1   11.1  148.0              1.4652  -0.410512                   1   \n2  274.6  201.0             36.2472   0.756457                   1   \n3  172.8  173.0             22.8096   0.035221                   1   \n4  223.3  222.0             29.4756   0.197271                   0   \n\n   buggers_were_noticed  nearby_system_has_planemo  dangerous  \n0                     1                          1          1  \n1                     1                          1          1  \n2                     1                          1          1  \n3                     1                          1          1  \n4                     1                          1          1  ",
      "text/html": "<div>\n<style scoped>\n    .dataframe tbody tr th:only-of-type {\n        vertical-align: middle;\n    }\n\n    .dataframe tbody tr th {\n        vertical-align: top;\n    }\n\n    .dataframe thead th {\n        text-align: right;\n    }\n</style>\n<table border=\"1\" class=\"dataframe\">\n  <thead>\n    <tr style=\"text-align: right;\">\n      <th></th>\n      <th>r</th>\n      <th>phi</th>\n      <th>peradventure_index</th>\n      <th>dustiness</th>\n      <th>black_hole_is_near</th>\n      <th>buggers_were_noticed</th>\n      <th>nearby_system_has_planemo</th>\n      <th>dangerous</th>\n    </tr>\n  </thead>\n  <tbody>\n    <tr>\n      <th>0</th>\n      <td>169.1</td>\n      <td>138.0</td>\n      <td>22.3212</td>\n      <td>0.706285</td>\n      <td>0</td>\n      <td>1</td>\n      <td>1</td>\n      <td>1</td>\n    </tr>\n    <tr>\n      <th>1</th>\n      <td>11.1</td>\n      <td>148.0</td>\n      <td>1.4652</td>\n      <td>-0.410512</td>\n      <td>1</td>\n      <td>1</td>\n      <td>1</td>\n      <td>1</td>\n    </tr>\n    <tr>\n      <th>2</th>\n      <td>274.6</td>\n      <td>201.0</td>\n      <td>36.2472</td>\n      <td>0.756457</td>\n      <td>1</td>\n      <td>1</td>\n      <td>1</td>\n      <td>1</td>\n    </tr>\n    <tr>\n      <th>3</th>\n      <td>172.8</td>\n      <td>173.0</td>\n      <td>22.8096</td>\n      <td>0.035221</td>\n      <td>1</td>\n      <td>1</td>\n      <td>1</td>\n      <td>1</td>\n    </tr>\n    <tr>\n      <th>4</th>\n      <td>223.3</td>\n      <td>222.0</td>\n      <td>29.4756</td>\n      <td>0.197271</td>\n      <td>0</td>\n      <td>1</td>\n      <td>1</td>\n      <td>1</td>\n    </tr>\n  </tbody>\n</table>\n</div>"
     },
     "execution_count": 34,
     "metadata": {},
     "output_type": "execute_result"
    }
   ],
   "source": [
    "dt = pd.read_csv('https://stepik.org/media/attachments/course/4852/space_can_be_a_dangerous_place.csv')\n",
    "dt.head()"
   ]
  },
  {
   "cell_type": "code",
   "execution_count": 35,
   "id": "0e3d7665",
   "metadata": {
    "ExecuteTime": {
     "end_time": "2023-09-24T11:52:42.395492700Z",
     "start_time": "2023-09-24T11:52:42.358671600Z"
    }
   },
   "outputs": [
    {
     "data": {
      "text/plain": "                                  r       phi  peradventure_index  dustiness  \\\nr                          1.000000  0.001023            1.000000  -0.003336   \nphi                        0.001023  1.000000            0.001023   0.001921   \nperadventure_index         1.000000  0.001023            1.000000  -0.003336   \ndustiness                 -0.003336  0.001921           -0.003336   1.000000   \nblack_hole_is_near         0.002337  0.002875            0.002337  -0.004691   \nbuggers_were_noticed       0.001797 -0.004726            0.001797  -0.001290   \nnearby_system_has_planemo  0.000326 -0.000803            0.000326   0.003370   \ndangerous                  0.005788  0.003035            0.005788  -0.000499   \n\n                           black_hole_is_near  buggers_were_noticed  \\\nr                                    0.002337              0.001797   \nphi                                  0.002875             -0.004726   \nperadventure_index                   0.002337              0.001797   \ndustiness                           -0.004691             -0.001290   \nblack_hole_is_near                   1.000000             -0.001874   \nbuggers_were_noticed                -0.001874              1.000000   \nnearby_system_has_planemo            0.002661             -0.003031   \ndangerous                            0.052968              0.344469   \n\n                           nearby_system_has_planemo  dangerous  \nr                                           0.000326   0.005788  \nphi                                        -0.000803   0.003035  \nperadventure_index                          0.000326   0.005788  \ndustiness                                   0.003370  -0.000499  \nblack_hole_is_near                          0.002661   0.052968  \nbuggers_were_noticed                       -0.003031   0.344469  \nnearby_system_has_planemo                   1.000000   0.299508  \ndangerous                                   0.299508   1.000000  ",
      "text/html": "<div>\n<style scoped>\n    .dataframe tbody tr th:only-of-type {\n        vertical-align: middle;\n    }\n\n    .dataframe tbody tr th {\n        vertical-align: top;\n    }\n\n    .dataframe thead th {\n        text-align: right;\n    }\n</style>\n<table border=\"1\" class=\"dataframe\">\n  <thead>\n    <tr style=\"text-align: right;\">\n      <th></th>\n      <th>r</th>\n      <th>phi</th>\n      <th>peradventure_index</th>\n      <th>dustiness</th>\n      <th>black_hole_is_near</th>\n      <th>buggers_were_noticed</th>\n      <th>nearby_system_has_planemo</th>\n      <th>dangerous</th>\n    </tr>\n  </thead>\n  <tbody>\n    <tr>\n      <th>r</th>\n      <td>1.000000</td>\n      <td>0.001023</td>\n      <td>1.000000</td>\n      <td>-0.003336</td>\n      <td>0.002337</td>\n      <td>0.001797</td>\n      <td>0.000326</td>\n      <td>0.005788</td>\n    </tr>\n    <tr>\n      <th>phi</th>\n      <td>0.001023</td>\n      <td>1.000000</td>\n      <td>0.001023</td>\n      <td>0.001921</td>\n      <td>0.002875</td>\n      <td>-0.004726</td>\n      <td>-0.000803</td>\n      <td>0.003035</td>\n    </tr>\n    <tr>\n      <th>peradventure_index</th>\n      <td>1.000000</td>\n      <td>0.001023</td>\n      <td>1.000000</td>\n      <td>-0.003336</td>\n      <td>0.002337</td>\n      <td>0.001797</td>\n      <td>0.000326</td>\n      <td>0.005788</td>\n    </tr>\n    <tr>\n      <th>dustiness</th>\n      <td>-0.003336</td>\n      <td>0.001921</td>\n      <td>-0.003336</td>\n      <td>1.000000</td>\n      <td>-0.004691</td>\n      <td>-0.001290</td>\n      <td>0.003370</td>\n      <td>-0.000499</td>\n    </tr>\n    <tr>\n      <th>black_hole_is_near</th>\n      <td>0.002337</td>\n      <td>0.002875</td>\n      <td>0.002337</td>\n      <td>-0.004691</td>\n      <td>1.000000</td>\n      <td>-0.001874</td>\n      <td>0.002661</td>\n      <td>0.052968</td>\n    </tr>\n    <tr>\n      <th>buggers_were_noticed</th>\n      <td>0.001797</td>\n      <td>-0.004726</td>\n      <td>0.001797</td>\n      <td>-0.001290</td>\n      <td>-0.001874</td>\n      <td>1.000000</td>\n      <td>-0.003031</td>\n      <td>0.344469</td>\n    </tr>\n    <tr>\n      <th>nearby_system_has_planemo</th>\n      <td>0.000326</td>\n      <td>-0.000803</td>\n      <td>0.000326</td>\n      <td>0.003370</td>\n      <td>0.002661</td>\n      <td>-0.003031</td>\n      <td>1.000000</td>\n      <td>0.299508</td>\n    </tr>\n    <tr>\n      <th>dangerous</th>\n      <td>0.005788</td>\n      <td>0.003035</td>\n      <td>0.005788</td>\n      <td>-0.000499</td>\n      <td>0.052968</td>\n      <td>0.344469</td>\n      <td>0.299508</td>\n      <td>1.000000</td>\n    </tr>\n  </tbody>\n</table>\n</div>"
     },
     "execution_count": 35,
     "metadata": {},
     "output_type": "execute_result"
    }
   ],
   "source": [
    "dt.corr()"
   ]
  },
  {
   "cell_type": "markdown",
   "id": "f75cc452",
   "metadata": {},
   "source": [
    "# Pandas trick"
   ]
  },
  {
   "cell_type": "code",
   "execution_count": 36,
   "id": "b4cbdbda",
   "metadata": {
    "ExecuteTime": {
     "end_time": "2023-09-24T11:52:52.229178200Z",
     "start_time": "2023-09-24T11:52:51.918251400Z"
    }
   },
   "outputs": [],
   "source": [
    "df = pd.read_csv('https://stepik.org/media/attachments/course/4852/iris.csv')"
   ]
  },
  {
   "cell_type": "code",
   "execution_count": 37,
   "id": "12dab813",
   "metadata": {
    "ExecuteTime": {
     "end_time": "2023-09-24T11:52:54.618155400Z",
     "start_time": "2023-09-24T11:52:52.243744500Z"
    }
   },
   "outputs": [
    {
     "name": "stdout",
     "output_type": "stream",
     "text": [
      "296 µs ± 46.2 µs per loop (mean ± std. dev. of 7 runs, 1,000 loops each)\n"
     ]
    }
   ],
   "source": [
    "%%timeit\n",
    "df.mean(axis=0)  # The best"
   ]
  },
  {
   "cell_type": "code",
   "execution_count": 38,
   "id": "36e1ffb1",
   "metadata": {
    "ExecuteTime": {
     "end_time": "2023-09-24T11:52:57.451991200Z",
     "start_time": "2023-09-24T11:52:54.631153900Z"
    }
   },
   "outputs": [
    {
     "name": "stdout",
     "output_type": "stream",
     "text": [
      "340 µs ± 33.2 µs per loop (mean ± std. dev. of 7 runs, 1,000 loops each)\n"
     ]
    }
   ],
   "source": [
    "%%timeit\n",
    "df.apply('mean')"
   ]
  },
  {
   "cell_type": "code",
   "execution_count": 39,
   "id": "7b0125bb",
   "metadata": {
    "ExecuteTime": {
     "end_time": "2023-09-24T11:53:02.425578300Z",
     "start_time": "2023-09-24T11:52:57.483591500Z"
    }
   },
   "outputs": [
    {
     "name": "stdout",
     "output_type": "stream",
     "text": [
      "611 µs ± 40.9 µs per loop (mean ± std. dev. of 7 runs, 1,000 loops each)\n"
     ]
    }
   ],
   "source": [
    "%%timeit\n",
    "df.apply(np.mean)"
   ]
  },
  {
   "cell_type": "code",
   "execution_count": 40,
   "id": "23635572",
   "metadata": {
    "ExecuteTime": {
     "end_time": "2023-09-24T11:53:08.220515Z",
     "start_time": "2023-09-24T11:53:02.429001Z"
    }
   },
   "outputs": [
    {
     "name": "stdout",
     "output_type": "stream",
     "text": [
      "7.12 ms ± 477 µs per loop (mean ± std. dev. of 7 runs, 100 loops each)\n"
     ]
    }
   ],
   "source": [
    "%%timeit\n",
    "df.describe().loc['mean']"
   ]
  }
 ],
 "metadata": {
  "kernelspec": {
   "display_name": "Python 3 (ipykernel)",
   "language": "python",
   "name": "python3"
  },
  "language_info": {
   "codemirror_mode": {
    "name": "ipython",
    "version": 3
   },
   "file_extension": ".py",
   "mimetype": "text/x-python",
   "name": "python",
   "nbconvert_exporter": "python",
   "pygments_lexer": "ipython3",
   "version": "3.9.16"
  }
 },
 "nbformat": 4,
 "nbformat_minor": 5
}
