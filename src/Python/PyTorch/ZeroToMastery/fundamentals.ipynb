{
 "cells": [
  {
   "cell_type": "code",
   "execution_count": 1,
   "id": "initial_id",
   "metadata": {
    "collapsed": true,
    "ExecuteTime": {
     "end_time": "2023-09-24T09:57:13.390719800Z",
     "start_time": "2023-09-24T09:57:10.840741700Z"
    }
   },
   "outputs": [],
   "source": [
    "import torch\n",
    "import pandas as pd\n",
    "import numpy as np\n",
    "import matplotlib.pyplot as plt"
   ]
  },
  {
   "cell_type": "code",
   "execution_count": 2,
   "outputs": [
    {
     "name": "stdout",
     "output_type": "stream",
     "text": [
      "2.0.0+cu117\n"
     ]
    }
   ],
   "source": [
    "print(torch.__version__)"
   ],
   "metadata": {
    "collapsed": false,
    "ExecuteTime": {
     "end_time": "2023-09-24T09:57:32.686659300Z",
     "start_time": "2023-09-24T09:57:32.675643800Z"
    }
   },
   "id": "1814f88cd97c98a9"
  },
  {
   "cell_type": "markdown",
   "source": [
    "## Introduction to Tensors -> https://pytorch.org/docs/stable/tensors.html"
   ],
   "metadata": {
    "collapsed": false
   },
   "id": "e9b4f99feb3971a1"
  },
  {
   "cell_type": "markdown",
   "source": [
    "### Create tensors"
   ],
   "metadata": {
    "collapsed": false
   },
   "id": "9784357e118189a4"
  },
  {
   "cell_type": "code",
   "execution_count": 6,
   "outputs": [
    {
     "name": "stdout",
     "output_type": "stream",
     "text": [
      "0\n",
      "7\n"
     ]
    }
   ],
   "source": [
    "# scalar\n",
    "scalar = torch.tensor(7)\n",
    "print(scalar.ndim)\n",
    "print(scalar.item())  # get tensor back as Python int"
   ],
   "metadata": {
    "collapsed": false,
    "ExecuteTime": {
     "end_time": "2023-09-24T10:04:51.766523300Z",
     "start_time": "2023-09-24T10:04:51.754209100Z"
    }
   },
   "id": "150d488c72021cfd"
  },
  {
   "cell_type": "code",
   "execution_count": 7,
   "outputs": [
    {
     "name": "stdout",
     "output_type": "stream",
     "text": [
      "1\n",
      "torch.Size([2])\n"
     ]
    }
   ],
   "source": [
    "# vector\n",
    "vector = torch.tensor([7, 7])\n",
    "print(vector.ndim)\n",
    "print(vector.shape)"
   ],
   "metadata": {
    "collapsed": false,
    "ExecuteTime": {
     "end_time": "2023-09-24T10:06:16.384474400Z",
     "start_time": "2023-09-24T10:06:16.339198900Z"
    }
   },
   "id": "be1e9bc144a043b8"
  },
  {
   "cell_type": "code",
   "execution_count": 9,
   "outputs": [
    {
     "name": "stdout",
     "output_type": "stream",
     "text": [
      "2\n",
      "torch.Size([2, 2])\n",
      "tensor([7, 8])\n"
     ]
    }
   ],
   "source": [
    "# Matrix\n",
    "MATRIX = torch.tensor([[7, 8],\n",
    "                       [10, 5]])\n",
    "print(MATRIX.ndim)\n",
    "print(MATRIX.shape)\n",
    "print(MATRIX[0])"
   ],
   "metadata": {
    "collapsed": false,
    "ExecuteTime": {
     "end_time": "2023-09-24T10:08:03.215238300Z",
     "start_time": "2023-09-24T10:08:03.195927300Z"
    }
   },
   "id": "500857d95739f155"
  },
  {
   "cell_type": "code",
   "execution_count": 14,
   "outputs": [
    {
     "data": {
      "text/plain": "tensor([[[1, 2, 3],\n         [4, 5, 6],\n         [7, 8, 9]]])"
     },
     "execution_count": 14,
     "metadata": {},
     "output_type": "execute_result"
    }
   ],
   "source": [
    "# Tensor\n",
    "TENSOR = torch.tensor([[[1, 2, 3], [4, 5, 6], [7, 8, 9]]])\n",
    "TENSOR"
   ],
   "metadata": {
    "collapsed": false,
    "ExecuteTime": {
     "end_time": "2023-09-24T10:18:21.924476700Z",
     "start_time": "2023-09-24T10:18:21.874867200Z"
    }
   },
   "id": "a19605442ea7d07b"
  },
  {
   "cell_type": "markdown",
   "source": [
    "![00-pytorch-different-tensor-dimensions.png](static/00-pytorch-different-tensor-dimensions.png)"
   ],
   "metadata": {
    "collapsed": false
   },
   "id": "f38904e281b46a3f"
  },
  {
   "cell_type": "markdown",
   "source": [
    "### Random tensors\n",
    "#### Start with random numbers -> look at data -> update rn -> look at data -> ..."
   ],
   "metadata": {
    "collapsed": false
   },
   "id": "8c2dfcafc8a988d0"
  },
  {
   "cell_type": "code",
   "execution_count": 16,
   "outputs": [
    {
     "data": {
      "text/plain": "tensor([[0.1356, 0.5702, 0.8434, 0.7994],\n        [0.3165, 0.1431, 0.6322, 0.0974],\n        [0.1626, 0.5397, 0.5737, 0.6531]])"
     },
     "execution_count": 16,
     "metadata": {},
     "output_type": "execute_result"
    }
   ],
   "source": [
    "# Create a random tensor\n",
    "random_tensor = torch.rand(3, 4)\n",
    "random_tensor"
   ],
   "metadata": {
    "collapsed": false,
    "ExecuteTime": {
     "end_time": "2023-09-24T10:20:55.234767Z",
     "start_time": "2023-09-24T10:20:55.102346600Z"
    }
   },
   "id": "43f8efed96987622"
  },
  {
   "cell_type": "code",
   "execution_count": 18,
   "outputs": [
    {
     "data": {
      "text/plain": "(torch.Size([224, 224, 3]), 3)"
     },
     "execution_count": 18,
     "metadata": {},
     "output_type": "execute_result"
    }
   ],
   "source": [
    "# Create a rand tensor with similar shape to an image\n",
    "random_image_size_tensor = torch.rand(size=(3, 224, 224))  # h,w,c\n",
    "random_image_size_tensor.shape, random_image_size_tensor.ndim"
   ],
   "metadata": {
    "collapsed": false,
    "ExecuteTime": {
     "end_time": "2023-09-24T10:23:40.722290700Z",
     "start_time": "2023-09-24T10:23:40.672575200Z"
    }
   },
   "id": "8468a0d1aac6bb13"
  },
  {
   "cell_type": "markdown",
   "source": [
    "### Ones, zeros, eye"
   ],
   "metadata": {
    "collapsed": false
   },
   "id": "c95bc03fe11c406a"
  },
  {
   "cell_type": "code",
   "execution_count": 25,
   "outputs": [
    {
     "data": {
      "text/plain": "tensor([[0., 0., 0., 0.],\n        [0., 0., 0., 0.],\n        [0., 0., 0., 0.]])"
     },
     "execution_count": 25,
     "metadata": {},
     "output_type": "execute_result"
    }
   ],
   "source": [
    "zeros = torch.zeros(size=(3, 4))\n",
    "zeros"
   ],
   "metadata": {
    "collapsed": false,
    "ExecuteTime": {
     "end_time": "2023-09-24T10:29:32.208909500Z",
     "start_time": "2023-09-24T10:29:32.189335600Z"
    }
   },
   "id": "b89be0506c8f4174"
  },
  {
   "cell_type": "code",
   "execution_count": 26,
   "outputs": [
    {
     "data": {
      "text/plain": "tensor([[0., 0., 0., 0.],\n        [0., 0., 0., 0.],\n        [0., 0., 0., 0.]])"
     },
     "execution_count": 26,
     "metadata": {},
     "output_type": "execute_result"
    }
   ],
   "source": [
    "zeros * torch.rand(size=(3, 4))"
   ],
   "metadata": {
    "collapsed": false,
    "ExecuteTime": {
     "end_time": "2023-09-24T10:29:32.755511800Z",
     "start_time": "2023-09-24T10:29:32.727516200Z"
    }
   },
   "id": "8e9f3ff2833f8df8"
  },
  {
   "cell_type": "code",
   "execution_count": 23,
   "outputs": [
    {
     "data": {
      "text/plain": "tensor([[1, 1, 1, 1, 1],\n        [1, 1, 1, 1, 1],\n        [1, 1, 1, 1, 1]], dtype=torch.int32)"
     },
     "execution_count": 23,
     "metadata": {},
     "output_type": "execute_result"
    }
   ],
   "source": [
    "ones = torch.ones(size=(3, 5), dtype=torch.int)\n",
    "ones"
   ],
   "metadata": {
    "collapsed": false,
    "ExecuteTime": {
     "end_time": "2023-09-24T10:28:47.986531700Z",
     "start_time": "2023-09-24T10:28:47.972835Z"
    }
   },
   "id": "161f25cc42aa87eb"
  },
  {
   "cell_type": "code",
   "execution_count": 24,
   "outputs": [
    {
     "data": {
      "text/plain": "tensor([[1., 0., 0., 0., 0., 0., 0., 0., 0., 0.],\n        [0., 1., 0., 0., 0., 0., 0., 0., 0., 0.],\n        [0., 0., 1., 0., 0., 0., 0., 0., 0., 0.],\n        [0., 0., 0., 1., 0., 0., 0., 0., 0., 0.],\n        [0., 0., 0., 0., 1., 0., 0., 0., 0., 0.],\n        [0., 0., 0., 0., 0., 1., 0., 0., 0., 0.],\n        [0., 0., 0., 0., 0., 0., 1., 0., 0., 0.],\n        [0., 0., 0., 0., 0., 0., 0., 1., 0., 0.],\n        [0., 0., 0., 0., 0., 0., 0., 0., 1., 0.],\n        [0., 0., 0., 0., 0., 0., 0., 0., 0., 1.]])"
     },
     "execution_count": 24,
     "metadata": {},
     "output_type": "execute_result"
    }
   ],
   "source": [
    "eye = torch.eye(10)\n",
    "eye"
   ],
   "metadata": {
    "collapsed": false,
    "ExecuteTime": {
     "end_time": "2023-09-24T10:29:10.117410700Z",
     "start_time": "2023-09-24T10:29:10.066037700Z"
    }
   },
   "id": "2a66da4c3a06a33b"
  },
  {
   "cell_type": "markdown",
   "source": [
    "### Create a range of tensors and tensors-like"
   ],
   "metadata": {
    "collapsed": false
   },
   "id": "1977ff4025808b81"
  },
  {
   "cell_type": "code",
   "execution_count": 29,
   "outputs": [
    {
     "data": {
      "text/plain": "tensor([ 0,  3,  6,  9, 12])"
     },
     "execution_count": 29,
     "metadata": {},
     "output_type": "execute_result"
    }
   ],
   "source": [
    "# Range\n",
    "one_to_14 = torch.arange(0, 14, 3)\n",
    "one_to_14"
   ],
   "metadata": {
    "collapsed": false,
    "ExecuteTime": {
     "end_time": "2023-09-24T10:32:46.561771900Z",
     "start_time": "2023-09-24T10:32:46.552722700Z"
    }
   },
   "id": "4fe51a3ae8388309"
  },
  {
   "cell_type": "code",
   "execution_count": 31,
   "outputs": [
    {
     "data": {
      "text/plain": "tensor([0, 0, 0, 0, 0])"
     },
     "execution_count": 31,
     "metadata": {},
     "output_type": "execute_result"
    }
   ],
   "source": [
    "# Tensors like\n",
    "zeros = torch.zeros_like(input=one_to_14)\n",
    "zeros"
   ],
   "metadata": {
    "collapsed": false,
    "ExecuteTime": {
     "end_time": "2023-09-24T10:33:00.490760Z",
     "start_time": "2023-09-24T10:33:00.477090400Z"
    }
   },
   "id": "632775818ddfc387"
  },
  {
   "cell_type": "markdown",
   "source": [
    "### Tensor datatypes -> https://pytorch.org/docs/stable/generated/torch.Tensor.requires_grad_.html"
   ],
   "metadata": {
    "collapsed": false
   },
   "id": "1325c0f73b3a5632"
  },
  {
   "cell_type": "code",
   "execution_count": 35,
   "outputs": [
    {
     "data": {
      "text/plain": "tensor([3.0000, 2.5000], device='cuda:0')"
     },
     "execution_count": 35,
     "metadata": {},
     "output_type": "execute_result"
    }
   ],
   "source": [
    "float_32_tensor = torch.tensor([3.0, 2.5],\n",
    "                               dtype=None,  # What type tensor has\n",
    "                               device=\"cuda\",  # alt = \"cpu\"\n",
    "                               requires_grad=False)\n",
    "float_32_tensor"
   ],
   "metadata": {
    "collapsed": false,
    "ExecuteTime": {
     "end_time": "2023-09-24T10:39:26.549707800Z",
     "start_time": "2023-09-24T10:39:26.495365200Z"
    }
   },
   "id": "7a69e2d11ef43b9"
  },
  {
   "cell_type": "code",
   "execution_count": 37,
   "outputs": [
    {
     "data": {
      "text/plain": "tensor([3.0000, 2.5000], device='cuda:0', dtype=torch.float16)"
     },
     "execution_count": 37,
     "metadata": {},
     "output_type": "execute_result"
    }
   ],
   "source": [
    "float_16_tensor = float_32_tensor.type(torch.float16)\n",
    "float_16_tensor"
   ],
   "metadata": {
    "collapsed": false,
    "ExecuteTime": {
     "end_time": "2023-09-24T10:39:59.024417500Z",
     "start_time": "2023-09-24T10:39:59.007368600Z"
    }
   },
   "id": "c542be43e45cfd35"
  },
  {
   "cell_type": "markdown",
   "source": [
    "### Getting info from tensor --- Attributes"
   ],
   "metadata": {
    "collapsed": false
   },
   "id": "ee6516f7333051d7"
  },
  {
   "cell_type": "code",
   "execution_count": 42,
   "outputs": [
    {
     "name": "stdout",
     "output_type": "stream",
     "text": [
      "torch.float32\n",
      "torch.Size([2])\n",
      "torch.Size([2])\n",
      "cuda:0\n"
     ]
    }
   ],
   "source": [
    "print(float_32_tensor.dtype)  # To get type of tensor\n",
    "print(float_32_tensor.shape)  # To get tensor shape\n",
    "print(float_32_tensor.size())  # To get tensor size\n",
    "print(float_32_tensor.device)  # To get tensor device"
   ],
   "metadata": {
    "collapsed": false,
    "ExecuteTime": {
     "end_time": "2023-09-24T10:45:59.283006400Z",
     "start_time": "2023-09-24T10:45:59.271499800Z"
    }
   },
   "id": "b0de74daf10ec273"
  },
  {
   "cell_type": "markdown",
   "source": [
    "### Tensor operations"
   ],
   "metadata": {
    "collapsed": false
   },
   "id": "b82f013d60c59e1b"
  },
  {
   "cell_type": "code",
   "execution_count": 44,
   "outputs": [],
   "source": [
    "# Setup\n",
    "tensor_one = torch.tensor([1, 2, 3])\n",
    "tensor_two = torch.tensor([5, 6, 7])"
   ],
   "metadata": {
    "collapsed": false,
    "ExecuteTime": {
     "end_time": "2023-09-24T10:48:52.192963100Z",
     "start_time": "2023-09-24T10:48:52.179119500Z"
    }
   },
   "id": "bcfb4b75bed4d406"
  },
  {
   "cell_type": "code",
   "execution_count": 45,
   "outputs": [
    {
     "name": "stdout",
     "output_type": "stream",
     "text": [
      "tensor([11, 12, 13])\n",
      "tensor([ 6,  8, 10])\n"
     ]
    }
   ],
   "source": [
    "# Addition\n",
    "print(tensor_one + 10)\n",
    "print(tensor_one + tensor_two)"
   ],
   "metadata": {
    "collapsed": false,
    "ExecuteTime": {
     "end_time": "2023-09-24T10:48:53.925668200Z",
     "start_time": "2023-09-24T10:48:53.870056900Z"
    }
   },
   "id": "4f5ea574925ded46"
  },
  {
   "cell_type": "code",
   "execution_count": 46,
   "outputs": [
    {
     "name": "stdout",
     "output_type": "stream",
     "text": [
      "tensor([-9, -8, -7])\n",
      "tensor([-4, -4, -4])\n"
     ]
    }
   ],
   "source": [
    "# Subtraction\n",
    "print(tensor_one - 10)\n",
    "print(tensor_one - tensor_two)"
   ],
   "metadata": {
    "collapsed": false,
    "ExecuteTime": {
     "end_time": "2023-09-24T10:49:05.781743600Z",
     "start_time": "2023-09-24T10:49:05.718113900Z"
    }
   },
   "id": "15b30bd8ab1fcee7"
  },
  {
   "cell_type": "code",
   "execution_count": 48,
   "outputs": [
    {
     "name": "stdout",
     "output_type": "stream",
     "text": [
      "tensor([10, 20, 30])\n",
      "tensor([ 5, 10, 15])\n",
      "tensor([ 5, 12, 21])\n"
     ]
    }
   ],
   "source": [
    "# Multiplication - element-wise\n",
    "print(tensor_one * 10)\n",
    "print(torch.mul(tensor_one, 5))\n",
    "print(tensor_one * tensor_two)"
   ],
   "metadata": {
    "collapsed": false,
    "ExecuteTime": {
     "end_time": "2023-09-24T10:50:02.093837900Z",
     "start_time": "2023-09-24T10:50:02.022128300Z"
    }
   },
   "id": "7496f3e06e295cd5"
  },
  {
   "cell_type": "code",
   "execution_count": 49,
   "outputs": [
    {
     "name": "stdout",
     "output_type": "stream",
     "text": [
      "tensor([0.1000, 0.2000, 0.3000])\n",
      "tensor([0.2000, 0.4000, 0.6000])\n",
      "tensor([0.2000, 0.3333, 0.4286])\n"
     ]
    }
   ],
   "source": [
    "# Division\n",
    "print(tensor_one / 10)\n",
    "print(torch.div(tensor_one, 5))\n",
    "print(tensor_one / tensor_two)"
   ],
   "metadata": {
    "collapsed": false,
    "ExecuteTime": {
     "end_time": "2023-09-24T10:50:42.675080900Z",
     "start_time": "2023-09-24T10:50:42.625263600Z"
    }
   },
   "id": "300e3cb5adb52208"
  },
  {
   "cell_type": "code",
   "execution_count": 64,
   "outputs": [
    {
     "name": "stdout",
     "output_type": "stream",
     "text": [
      "tensor(38)\n",
      "tensor(38)\n",
      "tensor([[ 73,  40],\n",
      "        [172, 109]])\n"
     ]
    },
    {
     "data": {
      "text/plain": "torch.Size([5, 7, 3, 2])"
     },
     "execution_count": 64,
     "metadata": {},
     "output_type": "execute_result"
    }
   ],
   "source": [
    "# Matrix\n",
    "print(torch.matmul(tensor_one, tensor_two))\n",
    "print(tensor_one @ tensor_two)\n",
    "\n",
    "matrix_one = torch.tensor([[1, 2, 3], [4, 5, 6]])\n",
    "matrix_two = torch.tensor([[8, 9], [10, 11], [15, 3]])\n",
    "print(matrix_one @ matrix_two)\n",
    "\n",
    "matrix_one = torch.rand(5, 7, 3, 8)\n",
    "matrix_two = torch.rand(5, 7, 8, 2)\n",
    "matrix_three = matrix_one @ matrix_two\n",
    "matrix_three.shape"
   ],
   "metadata": {
    "collapsed": false,
    "ExecuteTime": {
     "end_time": "2023-09-24T11:01:15.855837200Z",
     "start_time": "2023-09-24T11:01:15.805086200Z"
    }
   },
   "id": "4ac4edd29aea40cf"
  },
  {
   "cell_type": "code",
   "execution_count": 67,
   "outputs": [
    {
     "name": "stdout",
     "output_type": "stream",
     "text": [
      "torch.Size([3, 2])\n"
     ]
    },
    {
     "data": {
      "text/plain": "tensor([[1.0965, 1.1255],\n        [1.1255, 1.4479]])"
     },
     "execution_count": 67,
     "metadata": {},
     "output_type": "execute_result"
    }
   ],
   "source": [
    "### Transpose\n",
    "M = torch.rand(2, 3)\n",
    "print(M.T.shape)\n",
    "M @ M.T"
   ],
   "metadata": {
    "collapsed": false,
    "ExecuteTime": {
     "end_time": "2023-09-24T11:02:59.871049Z",
     "start_time": "2023-09-24T11:02:59.851886Z"
    }
   },
   "id": "6ee73621f66ef3da"
  },
  {
   "cell_type": "code",
   "execution_count": null,
   "outputs": [],
   "source": [],
   "metadata": {
    "collapsed": false
   },
   "id": "924e91a49d961dbd"
  }
 ],
 "metadata": {
  "kernelspec": {
   "display_name": "Python 3",
   "language": "python",
   "name": "python3"
  },
  "language_info": {
   "codemirror_mode": {
    "name": "ipython",
    "version": 2
   },
   "file_extension": ".py",
   "mimetype": "text/x-python",
   "name": "python",
   "nbconvert_exporter": "python",
   "pygments_lexer": "ipython2",
   "version": "2.7.6"
  }
 },
 "nbformat": 4,
 "nbformat_minor": 5
}
